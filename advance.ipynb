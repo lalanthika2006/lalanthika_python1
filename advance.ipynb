{
 "cells": [
  {
   "cell_type": "code",
   "execution_count": 1,
   "metadata": {},
   "outputs": [
    {
     "name": "stdout",
     "output_type": "stream",
     "text": [
      "1\n",
      "22\n",
      "333\n",
      "4444\n",
      "55555\n"
     ]
    }
   ],
   "source": [
    "for r in range (0,5):\n",
    "    for c in range(0,r+1):\n",
    "         print (r+1,end='')\n",
    "    print() "
   ]
  },
  {
   "cell_type": "code",
   "execution_count": 33,
   "metadata": {},
   "outputs": [
    {
     "name": "stdout",
     "output_type": "stream",
     "text": [
      "-8[]-7[]-6[]\n",
      "-8[]-7[]-6[]-5[]\n",
      "-8[]-7[]-6[]-5[]-4[]\n",
      "-8[]-7[]-6[]-5[]-4[]-3[]\n",
      "-8[]-7[]-6[]-5[]-4[]-3[]-2[]\n",
      "-8[]-7[]-6[]-5[]-4[]-3[]-2[]-1[]\n",
      "-8[]-7[]-6[]-5[]-4[]-3[]-2[]-1[]0[]\n",
      "-8[]-7[]-6[]-5[]-4[]-3[]-2[]-1[]0[]1[]\n",
      "-8[]-7[]-6[]-5[]-4[]-3[]-2[]-1[]0[]1[]2[]\n"
     ]
    }
   ],
   "source": [
    "for r in range (1,10):\n",
    "    for c in range(1,r+3):\n",
    "         print (c-9,end='[]')\n",
    "    print() "
   ]
  },
  {
   "cell_type": "code",
   "execution_count": 7,
   "metadata": {},
   "outputs": [],
   "source": [
    "class city_supermarket:\n",
    "     \n",
    "     #constructor\n",
    "     def __init__(self):\n",
    "        print(f'object created') \n",
    "     #destructor\n",
    "\n",
    "     def __del__(self):\n",
    "         print('objectdeleted')   "
   ]
  },
  {
   "cell_type": "code",
   "execution_count": 9,
   "metadata": {},
   "outputs": [
    {
     "name": "stdout",
     "output_type": "stream",
     "text": [
      "object created\n"
     ]
    }
   ],
   "source": [
    "anu = city_supermarket()"
   ]
  },
  {
   "cell_type": "code",
   "execution_count": 10,
   "metadata": {},
   "outputs": [
    {
     "name": "stdout",
     "output_type": "stream",
     "text": [
      "objectdeleted\n"
     ]
    }
   ],
   "source": [
    "del anu"
   ]
  },
  {
   "cell_type": "code",
   "execution_count": 14,
   "metadata": {},
   "outputs": [],
   "source": [
    "#class\n",
    "class city_supermarket:\n",
    "\n",
    "\n",
    "    #public class variable\n",
    "    message ='welcome'\n",
    "\n",
    "    #private class variable\n",
    "    __default_delivery = 7\n",
    "\n",
    "\n",
    "    #constructor\n",
    "    def __init__(self,name,mail):\n",
    "        #store areguments in object variable\n",
    "        self.name = name\n",
    "        self.__mail =mail\n",
    "        print(f'helloo  {self.name}!\\n{self.message}')"
   ]
  },
  {
   "cell_type": "code",
   "execution_count": 15,
   "metadata": {},
   "outputs": [
    {
     "name": "stdout",
     "output_type": "stream",
     "text": [
      "helloo  ammu!\n",
      "welcome\n"
     ]
    }
   ],
   "source": [
    "ammu = city_supermarket('ammu','gfdguytt@gmail.com')"
   ]
  },
  {
   "cell_type": "code",
   "execution_count": 16,
   "metadata": {},
   "outputs": [
    {
     "data": {
      "text/plain": [
       "'ammu'"
      ]
     },
     "execution_count": 16,
     "metadata": {},
     "output_type": "execute_result"
    }
   ],
   "source": [
    "ammu.name"
   ]
  },
  {
   "cell_type": "code",
   "execution_count": 37,
   "metadata": {},
   "outputs": [],
   "source": [
    "class city_supermarket:\n",
    "    __default_delivery  = '7 days'\n",
    "\n",
    "    welcome message = 'welcomeeee buddy'\n",
    "\n",
    "    def __init__ (self,name,mobile,email):\n",
    "        self.name=name\n",
    "        self.mobile= mobile \n",
    "        self.__email=email\n",
    "\n",
    "    def shopping(self,item):\n",
    "        print(f'{self.name} bought {item}')\n",
    "    \n",
    "    def delivery(self):\n",
    "        print(f'your order will be delivered in  {self.__default_delivery}')\n",
    "\n",
    "    def  __deactivate_account (self) :\n",
    "        print(f'{self.name} account deactivate successfully')\n"
   ]
  },
  {
   "cell_type": "code",
   "execution_count": 38,
   "metadata": {},
   "outputs": [],
   "source": [
    "anu = city_supermarket('anu',785690436,'ghdsytfr@gmail.com')"
   ]
  },
  {
   "cell_type": "code",
   "execution_count": 39,
   "metadata": {},
   "outputs": [
    {
     "name": "stdout",
     "output_type": "stream",
     "text": [
      "anu bought iphone\n"
     ]
    }
   ],
   "source": [
    "anu.shopping('iphone')"
   ]
  },
  {
   "cell_type": "code",
   "execution_count": 40,
   "metadata": {},
   "outputs": [
    {
     "name": "stdout",
     "output_type": "stream",
     "text": [
      "your order will be delivered in  7 days\n"
     ]
    }
   ],
   "source": [
    "anu.delivery()"
   ]
  },
  {
   "cell_type": "code",
   "execution_count": 55,
   "metadata": {},
   "outputs": [],
   "source": [
    "class standard_account:\n",
    "    __default_delivery  = '7 days'\n",
    "\n",
    "    welcomemessage = 'welcomeeee buddy'\n",
    "\n",
    "    def __init__ (self,name,mobile,email):\n",
    "        self.name=name\n",
    "        self.mobile= mobile \n",
    "        self.__email=email\n",
    "\n",
    "    def shopping(self,item):\n",
    "        print(f'{self.name} bought {item}')\n",
    "    \n",
    "    def delivery(self):\n",
    "        print(f'your order will be delivered in  {self.__default_delivery}')\n",
    "\n",
    "    def  deactivate_account (self) :\n",
    "        print(f'{self.name} account deactivate successfully')\n"
   ]
  },
  {
   "cell_type": "code",
   "execution_count": 56,
   "metadata": {},
   "outputs": [],
   "source": [
    "class premium_account(standard_account):\n",
    "    welcomemessage = 'welcome to prime account buddy'\n",
    "\n",
    "    def delivery(self):\n",
    "        premium_delivery = 1\n",
    "        print(f''' your order will be delivered in {premium_delivery}days ''')\n",
    "\n",
    "    def prime_video(self):\n",
    "        print('prime video membership enabled')   \n",
    "    def cancel_membership(self):\n",
    "        print (f'{self.name} successfully cancelled the membership')     \n"
   ]
  },
  {
   "cell_type": "code",
   "execution_count": 58,
   "metadata": {},
   "outputs": [
    {
     "data": {
      "text/plain": [
       "'welcomeeee buddy'"
      ]
     },
     "execution_count": 58,
     "metadata": {},
     "output_type": "execute_result"
    }
   ],
   "source": [
    "myaccount = standard_account('giuvfd','8795643565','fghgfhgfh@gmail.com')\n",
    "\n",
    "myaccount.name\n",
    "myaccount.welcomemessage"
   ]
  },
  {
   "cell_type": "code",
   "execution_count": 48,
   "metadata": {},
   "outputs": [
    {
     "name": "stdout",
     "output_type": "stream",
     "text": [
      "your order will be delivered in  7 days\n",
      "giuvfd bought iphone\n",
      "giuvfd account deactivate successfully\n"
     ]
    }
   ],
   "source": [
    "myaccount.delivery()\n",
    "myaccount.shopping('iphone')\n",
    "myaccount.deactivate_account()"
   ]
  },
  {
   "cell_type": "code",
   "execution_count": 49,
   "metadata": {},
   "outputs": [
    {
     "data": {
      "text/plain": [
       "'kali'"
      ]
     },
     "execution_count": 49,
     "metadata": {},
     "output_type": "execute_result"
    }
   ],
   "source": [
    "mypremiumaccount = premium_account('kali','6767776766','ghftyfrtft@gmail.com')\n",
    "mypremiumaccount.name"
   ]
  },
  {
   "cell_type": "code",
   "execution_count": 50,
   "metadata": {},
   "outputs": [
    {
     "name": "stdout",
     "output_type": "stream",
     "text": [
      " your order will be delivered in 1days \n"
     ]
    }
   ],
   "source": [
    "mypremiumaccount.delivery()"
   ]
  },
  {
   "cell_type": "code",
   "execution_count": 51,
   "metadata": {},
   "outputs": [
    {
     "name": "stdout",
     "output_type": "stream",
     "text": [
      "kali bought iphone\n"
     ]
    }
   ],
   "source": [
    "mypremiumaccount.shopping('iphone')"
   ]
  },
  {
   "cell_type": "code",
   "execution_count": 52,
   "metadata": {},
   "outputs": [
    {
     "name": "stdout",
     "output_type": "stream",
     "text": [
      "prime video membership enabled\n"
     ]
    }
   ],
   "source": [
    "mypremiumaccount.prime_video()"
   ]
  },
  {
   "cell_type": "code",
   "execution_count": 53,
   "metadata": {},
   "outputs": [
    {
     "name": "stdout",
     "output_type": "stream",
     "text": [
      "kali account deactivate successfully\n"
     ]
    }
   ],
   "source": [
    "mypremiumaccount.deactivate_account()"
   ]
  },
  {
   "cell_type": "code",
   "execution_count": 54,
   "metadata": {},
   "outputs": [
    {
     "name": "stdout",
     "output_type": "stream",
     "text": [
      "kali successfully cancelled the membership\n"
     ]
    }
   ],
   "source": [
    "mypremiumaccount.cancel_membership()"
   ]
  },
  {
   "cell_type": "code",
   "execution_count": null,
   "metadata": {},
   "outputs": [],
   "source": []
  }
 ],
 "metadata": {
  "kernelspec": {
   "display_name": "Python 3",
   "language": "python",
   "name": "python3"
  },
  "language_info": {
   "codemirror_mode": {
    "name": "ipython",
    "version": 3
   },
   "file_extension": ".py",
   "mimetype": "text/x-python",
   "name": "python",
   "nbconvert_exporter": "python",
   "pygments_lexer": "ipython3",
   "version": "3.10.12"
  }
 },
 "nbformat": 4,
 "nbformat_minor": 2
}
