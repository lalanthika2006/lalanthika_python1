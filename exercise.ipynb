{
 "cells": [
  {
   "cell_type": "code",
   "execution_count": 12,
   "metadata": {},
   "outputs": [
    {
     "name": "stdout",
     "output_type": "stream",
     "text": [
      "1 2 3 \n",
      "1 2 3 \n",
      "1 2 3 \n"
     ]
    }
   ],
   "source": [
    "for r in range (1,4):\n",
    "    for c in range(1,4):\n",
    "         print(c , end = ' ' )\n",
    "    print() "
   ]
  },
  {
   "cell_type": "code",
   "execution_count": 14,
   "metadata": {},
   "outputs": [
    {
     "name": "stdout",
     "output_type": "stream",
     "text": [
      "1 1 1 \n",
      "2 2 2 \n",
      "3 3 3 \n"
     ]
    }
   ],
   "source": [
    "for r in range (1,4):\n",
    "    for c in range(1,4):\n",
    "         print( r , end = ' ' )\n",
    "    print() "
   ]
  },
  {
   "cell_type": "code",
   "execution_count": 47,
   "metadata": {},
   "outputs": [
    {
     "name": "stdout",
     "output_type": "stream",
     "text": [
      "1 2 3 \n",
      "4 5 6 \n",
      "7 8 9 \n"
     ]
    }
   ],
   "source": [
    "for r in range (1,2):\n",
    "    for c in range(1,4):\n",
    "         print( c, end = ' ' )\n",
    "    print() \n",
    "\n",
    "\n",
    "\n",
    "for r in range (1,2):\n",
    "    for c in range(4,7):\n",
    "         print( c, end = ' ' )\n",
    "    print() \n",
    "\n",
    "\n",
    "\n",
    "for r in range (1,2):\n",
    "    for c in range(7,10):\n",
    "         print( c, end = ' ' )\n",
    "    print()     "
   ]
  },
  {
   "cell_type": "code",
   "execution_count": 46,
   "metadata": {},
   "outputs": [
    {
     "name": "stdout",
     "output_type": "stream",
     "text": [
      "1 0 0 \n",
      "0 1 0 \n",
      "0 0 1 \n"
     ]
    }
   ],
   "source": [
    "for r in range (1,2):\n",
    "    for c in range(1,2):\n",
    "         print( c , end = ' 0 0 ' )\n",
    "    print() \n",
    "\n",
    "for r in range (1,2):\n",
    "    for c in range(0,1):\n",
    "         print( c , end = ' 1 0 ' )\n",
    "    print() \n",
    "\n",
    "\n",
    "for r in range (1,2):\n",
    "    for c in range(0,1):\n",
    "         print( c , end = ' 0 1 ' )\n",
    "    print() \n",
    "\n",
    "\n",
    "\n",
    "\n"
   ]
  },
  {
   "cell_type": "code",
   "execution_count": 62,
   "metadata": {},
   "outputs": [
    {
     "name": "stdout",
     "output_type": "stream",
     "text": [
      "1 4 7 \n",
      "2 5 8 \n",
      "3 6 9 \n"
     ]
    }
   ],
   "source": [
    "for r in range (1,2):\n",
    "    for c in range(1,8,3):\n",
    "         print( c, end = ' ' )\n",
    "    print() \n",
    "\n",
    "\n",
    "\n",
    "for r in range (1,2):\n",
    "    for c in range(2,9,3):\n",
    "         print( c, end = ' ' )\n",
    "    print() \n",
    "\n",
    "\n",
    "\n",
    "for r in range (1,2):\n",
    "    for c in range(3,10,3):\n",
    "         print( c, end = ' ' )\n",
    "    print()     "
   ]
  },
  {
   "cell_type": "code",
   "execution_count": 76,
   "metadata": {},
   "outputs": [],
   "source": [
    "class student:\n",
    "    def getdata (self,name,age):\n",
    "        self .name=name\n",
    "        self.__age=age\n",
    "    def disp (self):\n",
    "        print(f'name is  {self.name}')\n",
    "        print(f'age is {self.__age}')\n"
   ]
  },
  {
   "cell_type": "code",
   "execution_count": 77,
   "metadata": {},
   "outputs": [
    {
     "name": "stdout",
     "output_type": "stream",
     "text": [
      "name is  lala\n",
      "age is 100\n"
     ]
    }
   ],
   "source": [
    "s = student()\n",
    "s.getdata('lala','100')\n",
    "s.disp()\n"
   ]
  },
  {
   "cell_type": "code",
   "execution_count": 68,
   "metadata": {},
   "outputs": [
    {
     "ename": "AttributeError",
     "evalue": "type object 'student' has no attribute 'age'",
     "output_type": "error",
     "traceback": [
      "\u001b[0;31m---------------------------------------------------------------------------\u001b[0m",
      "\u001b[0;31mAttributeError\u001b[0m                            Traceback (most recent call last)",
      "Cell \u001b[0;32mIn[68], line 1\u001b[0m\n\u001b[0;32m----> 1\u001b[0m \u001b[43mstudent\u001b[49m\u001b[38;5;241;43m.\u001b[39;49m\u001b[43mage\u001b[49m\n",
      "\u001b[0;31mAttributeError\u001b[0m: type object 'student' has no attribute 'age'"
     ]
    }
   ],
   "source": [
    "student.age"
   ]
  },
  {
   "cell_type": "code",
   "execution_count": 89,
   "metadata": {},
   "outputs": [],
   "source": [
    "class mark:\n",
    "    def getdata (self,name,rollno,mark1,mark2,mark3):\n",
    "        self .name=name\n",
    "        self.rollno=rollno\n",
    "        self.mark1=mark1\n",
    "        self.mark2=mark2\n",
    "        self.mark3=mark3\n",
    "    def disp (self):\n",
    "        print('name is :' ,self.name)\n",
    "        print('rollno is:',self.rollno)\n",
    "        print('mark1 is :' ,self.mark1)\n",
    "        print('mark2 is :' ,self.mark2)\n",
    "        print('mark3 is :' ,self.mark3)\n",
    "              "
   ]
  },
  {
   "cell_type": "code",
   "execution_count": 90,
   "metadata": {},
   "outputs": [
    {
     "name": "stdout",
     "output_type": "stream",
     "text": [
      "name is : lala\n",
      "rollno is: 2\n",
      "mark1 is : 90\n",
      "mark2 is : 90\n",
      "mark3 is : 99\n"
     ]
    }
   ],
   "source": [
    "m =mark()\n",
    "m.getdata('lala',2,90,90,99)\n",
    "m.disp()\n",
    "\n",
    "\n",
    "\n"
   ]
  },
  {
   "cell_type": "code",
   "execution_count": null,
   "metadata": {},
   "outputs": [],
   "source": []
  }
 ],
 "metadata": {
  "kernelspec": {
   "display_name": "Python 3",
   "language": "python",
   "name": "python3"
  },
  "language_info": {
   "codemirror_mode": {
    "name": "ipython",
    "version": 3
   },
   "file_extension": ".py",
   "mimetype": "text/x-python",
   "name": "python",
   "nbconvert_exporter": "python",
   "pygments_lexer": "ipython3",
   "version": "3.10.12"
  }
 },
 "nbformat": 4,
 "nbformat_minor": 2
}
