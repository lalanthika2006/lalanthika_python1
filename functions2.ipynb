{
 "cells": [
  {
   "cell_type": "code",
   "execution_count": 27,
   "metadata": {},
   "outputs": [
    {
     "name": "stdout",
     "output_type": "stream",
     "text": [
      "1\n",
      "22\n",
      "333\n",
      "4444\n",
      "55555\n"
     ]
    }
   ],
   "source": [
    "for r in range (0,5):\n",
    "    for c in range(0,r+1):\n",
    "         print (r+1,end='')\n",
    "    print() "
   ]
  },
  {
   "cell_type": "code",
   "execution_count": 1,
   "metadata": {},
   "outputs": [],
   "source": [
    "def add_user(name,mailid,phonenumber,age = 15):\n",
    "    user ={\n",
    "        'firstname':name,\n",
    "        'mailid':mailid,\n",
    "        'phonenumber':phonenumber,\n",
    "        'age':age\n",
    "    }\n",
    "    \n",
    "    return user"
   ]
  },
  {
   "cell_type": "code",
   "execution_count": 2,
   "metadata": {},
   "outputs": [
    {
     "data": {
      "text/plain": [
       "{'firstname': 'anu',\n",
       " 'mailid': 'fdgerfsh12@gmail.com',\n",
       " 'phonenumber': '9876543212',\n",
       " 'age': 15}"
      ]
     },
     "execution_count": 2,
     "metadata": {},
     "output_type": "execute_result"
    }
   ],
   "source": [
    "add_user('anu','fdgerfsh12@gmail.com','9876543212')"
   ]
  },
  {
   "cell_type": "code",
   "execution_count": 3,
   "metadata": {},
   "outputs": [
    {
     "data": {
      "text/plain": [
       "{'firstname': 'nick',\n",
       " 'mailid': 'yru3rtuy@gmail.com',\n",
       " 'phonenumber': '1234567898',\n",
       " 'age': 21}"
      ]
     },
     "execution_count": 3,
     "metadata": {},
     "output_type": "execute_result"
    }
   ],
   "source": [
    "add_user('nick','yru3rtuy@gmail.com','1234567898',21)"
   ]
  },
  {
   "cell_type": "code",
   "execution_count": 12,
   "metadata": {},
   "outputs": [],
   "source": [
    "def add_user(name,mailid,phonenumber,age = 15,city='salem'):\n",
    "    user = {\n",
    "        'firstname':name,\n",
    "        'mailid':mailid,\n",
    "        'phonenumber':phonenumber,\n",
    "        'age':age,\n",
    "        'city':city\n",
    "    }\n",
    "    \n",
    "    return user"
   ]
  },
  {
   "cell_type": "code",
   "execution_count": 13,
   "metadata": {},
   "outputs": [
    {
     "data": {
      "text/plain": [
       "{'firstname': 'pla',\n",
       " 'mailid': 'kjhgfd@gmail.com',\n",
       " 'phonenumber': '2340167897',\n",
       " 'age': 15,\n",
       " 'city': 'chennai'}"
      ]
     },
     "execution_count": 13,
     "metadata": {},
     "output_type": "execute_result"
    }
   ],
   "source": [
    "add_user('pla','kjhgfd@gmail.com','2340167897',city='chennai')"
   ]
  },
  {
   "cell_type": "code",
   "execution_count": 14,
   "metadata": {},
   "outputs": [
    {
     "data": {
      "text/plain": [
       "{'firstname': 'plahj',\n",
       " 'mailid': 'kjhghufd@gmail.com',\n",
       " 'phonenumber': '2349867897',\n",
       " 'age': 89,\n",
       " 'city': 'chennai'}"
      ]
     },
     "execution_count": 14,
     "metadata": {},
     "output_type": "execute_result"
    }
   ],
   "source": [
    "add_user('plahj','kjhghufd@gmail.com','2349867897',city='chennai',age=89)"
   ]
  },
  {
   "cell_type": "code",
   "execution_count": 15,
   "metadata": {},
   "outputs": [],
   "source": [
    "def order_food(*items):\n",
    "    cart = []\n",
    "\n",
    "\n",
    "    for item in items:\n",
    "        cart.append(item)\n",
    "\n",
    "\n",
    "    return cart    "
   ]
  },
  {
   "cell_type": "code",
   "execution_count": 16,
   "metadata": {},
   "outputs": [
    {
     "name": "stdout",
     "output_type": "stream",
     "text": [
      "['rice', 'chicken gravy', 'chicken 65', 'goli soda', 'juice']\n"
     ]
    }
   ],
   "source": [
    "lunch = order_food('rice','chicken gravy','chicken 65','goli soda','juice')\n",
    "print(lunch)"
   ]
  },
  {
   "cell_type": "code",
   "execution_count": 17,
   "metadata": {},
   "outputs": [],
   "source": [
    "def sum_all_numbers(*numbers):\n",
    "\n",
    "    total = sum(numbers)\n",
    "    return total"
   ]
  },
  {
   "cell_type": "code",
   "execution_count": 18,
   "metadata": {},
   "outputs": [
    {
     "data": {
      "text/plain": [
       "37"
      ]
     },
     "execution_count": 18,
     "metadata": {},
     "output_type": "execute_result"
    }
   ],
   "source": [
    "sum_all_numbers(6,9,8,4,10)"
   ]
  },
  {
   "cell_type": "code",
   "execution_count": 19,
   "metadata": {},
   "outputs": [],
   "source": [
    "def calculate_area(l,h):\n",
    "    ''' \n",
    "    to calculate the area of the rectangle:\n",
    "    calculate_area(length of rectangle,height of rectangle)\n",
    "    '''\n",
    "    rectangle_area=l*h\n",
    "    \n",
    "    return rectangle_area"
   ]
  },
  {
   "cell_type": "code",
   "execution_count": 20,
   "metadata": {},
   "outputs": [
    {
     "name": "stdout",
     "output_type": "stream",
     "text": [
      "Help on function calculate_area in module __main__:\n",
      "\n",
      "calculate_area(l, h)\n",
      "    to calculate the area of the rectangle:\n",
      "    calculate_area(length of rectangle,height of rectangle)\n",
      "\n"
     ]
    }
   ],
   "source": [
    "help(calculate_area)"
   ]
  },
  {
   "cell_type": "code",
   "execution_count": 21,
   "metadata": {},
   "outputs": [
    {
     "data": {
      "text/plain": [
       "' \\n    to calculate the area of the rectangle:\\n    calculate_area(length of rectangle,height of rectangle)\\n    '"
      ]
     },
     "execution_count": 21,
     "metadata": {},
     "output_type": "execute_result"
    }
   ],
   "source": [
    "calculate_area.__doc__"
   ]
  },
  {
   "cell_type": "code",
   "execution_count": 22,
   "metadata": {},
   "outputs": [],
   "source": [
    "def mufun(**kwargs):\n",
    "    for key ,value in kwargs.items():\n",
    "        print(\"%s =%s\"%(key,value))\n",
    "        "
   ]
  },
  {
   "cell_type": "code",
   "execution_count": 24,
   "metadata": {},
   "outputs": [
    {
     "name": "stdout",
     "output_type": "stream",
     "text": [
      "first =geeks\n",
      "mid =for\n",
      "last =geeks\n"
     ]
    }
   ],
   "source": [
    "mufun(first='geeks',mid='for',last='geeks')"
   ]
  },
  {
   "cell_type": "code",
   "execution_count": 1,
   "metadata": {},
   "outputs": [],
   "source": [
    "import square"
   ]
  },
  {
   "cell_type": "code",
   "execution_count": 2,
   "metadata": {},
   "outputs": [
    {
     "data": {
      "text/plain": [
       "16"
      ]
     },
     "execution_count": 2,
     "metadata": {},
     "output_type": "execute_result"
    }
   ],
   "source": [
    "square.square(4)"
   ]
  },
  {
   "cell_type": "code",
   "execution_count": 3,
   "metadata": {},
   "outputs": [],
   "source": [
    "import square as ab"
   ]
  },
  {
   "cell_type": "code",
   "execution_count": 4,
   "metadata": {},
   "outputs": [
    {
     "data": {
      "text/plain": [
       "100"
      ]
     },
     "execution_count": 4,
     "metadata": {},
     "output_type": "execute_result"
    }
   ],
   "source": [
    "ab.square(10)"
   ]
  },
  {
   "cell_type": "code",
   "execution_count": 5,
   "metadata": {},
   "outputs": [
    {
     "name": "stdout",
     "output_type": "stream",
     "text": [
      "Help on module square:\n",
      "\n",
      "NAME\n",
      "    square\n",
      "\n",
      "FUNCTIONS\n",
      "    square(side)\n",
      "        to find the area of the square\n",
      "        square(side)\n",
      "        side-enter the side of the square\n",
      "\n",
      "FILE\n",
      "    /home/variablzstudent/Documents/python_3lalanthika/square.py\n",
      "\n",
      "\n"
     ]
    }
   ],
   "source": [
    " help(ab)"
   ]
  },
  {
   "cell_type": "markdown",
   "metadata": {},
   "source": [
    "CLASS AND OBJECT"
   ]
  },
  {
   "cell_type": "code",
   "execution_count": 11,
   "metadata": {},
   "outputs": [],
   "source": [
    "class snacks:\n",
    "    msg='have a good snacks'"
   ]
  },
  {
   "cell_type": "code",
   "execution_count": 12,
   "metadata": {},
   "outputs": [],
   "source": [
    "samosa=snacks()\n",
    "puffs=snacks()"
   ]
  },
  {
   "cell_type": "code",
   "execution_count": 13,
   "metadata": {},
   "outputs": [
    {
     "data": {
      "text/plain": [
       "'have a good snacks'"
      ]
     },
     "execution_count": 13,
     "metadata": {},
     "output_type": "execute_result"
    }
   ],
   "source": [
    "samosa.msg"
   ]
  },
  {
   "cell_type": "code",
   "execution_count": 14,
   "metadata": {},
   "outputs": [
    {
     "data": {
      "text/plain": [
       "'have a good snacks'"
      ]
     },
     "execution_count": 14,
     "metadata": {},
     "output_type": "execute_result"
    }
   ],
   "source": [
    "puffs.msg"
   ]
  },
  {
   "cell_type": "code",
   "execution_count": null,
   "metadata": {},
   "outputs": [],
   "source": []
  }
 ],
 "metadata": {
  "kernelspec": {
   "display_name": ".venv",
   "language": "python",
   "name": "python3"
  },
  "language_info": {
   "codemirror_mode": {
    "name": "ipython",
    "version": 3
   },
   "file_extension": ".py",
   "mimetype": "text/x-python",
   "name": "python",
   "nbconvert_exporter": "python",
   "pygments_lexer": "ipython3",
   "version": "3.10.12"
  }
 },
 "nbformat": 4,
 "nbformat_minor": 2
}
