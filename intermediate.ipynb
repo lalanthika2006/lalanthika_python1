{
 "cells": [
  {
   "cell_type": "code",
   "execution_count": 1,
   "metadata": {},
   "outputs": [],
   "source": [
    "juices = ['pepsi','fanta','miranda','bovanta','sprite','7up']"
   ]
  },
  {
   "cell_type": "code",
   "execution_count": 2,
   "metadata": {},
   "outputs": [
    {
     "name": "stdout",
     "output_type": "stream",
     "text": [
      "pepsi\n",
      "fanta\n",
      "miranda\n",
      "bovanta\n",
      "sprite\n",
      "sprite is available\n"
     ]
    }
   ],
   "source": [
    "count = 0\n",
    "while count<len(juices):\n",
    "    print(juices[count])\n",
    "    if juices[count] == 'sprite':\n",
    "        print('sprite is available')\n",
    "        break\n",
    "\n",
    "    count +=1"
   ]
  },
  {
   "cell_type": "code",
   "execution_count": 3,
   "metadata": {},
   "outputs": [
    {
     "name": "stdout",
     "output_type": "stream",
     "text": [
      "pepsi\n",
      "fanta\n",
      "miranda\n",
      "bovanta\n",
      "sprite\n",
      "sprite is available\n"
     ]
    }
   ],
   "source": [
    "for juice in juices:\n",
    "    print(juice)\n",
    "    if juice == 'sprite':\n",
    "        print('sprite is available')\n",
    "        break"
   ]
  },
  {
   "cell_type": "code",
   "execution_count": 4,
   "metadata": {},
   "outputs": [
    {
     "name": "stdout",
     "output_type": "stream",
     "text": [
      "buy pepsi\n",
      "buy fanta\n",
      "buy miranda\n",
      "buy bovanta\n",
      "buy sprite\n"
     ]
    }
   ],
   "source": [
    "count = 0 \n",
    "while count <len(juices):\n",
    "    if juices [count] == '7up':\n",
    "        count += 1\n",
    "        continue\n",
    "    print(f'buy {juices[count]}')\n",
    "    count += 1"
   ]
  },
  {
   "cell_type": "code",
   "execution_count": 5,
   "metadata": {},
   "outputs": [
    {
     "name": "stdout",
     "output_type": "stream",
     "text": [
      "buy pepsi\n",
      "buy fanta\n",
      "buy miranda\n",
      "buy bovanta\n",
      "buy sprite\n"
     ]
    }
   ],
   "source": [
    "for juice in juices:\n",
    "    if juice == '7up':\n",
    "         continue\n",
    "    print(f'buy {juice}') "
   ]
  },
  {
   "cell_type": "code",
   "execution_count": 6,
   "metadata": {},
   "outputs": [],
   "source": [
    "juices = ['pepsi','fanta','miranda','bovanta','sprite','7up']"
   ]
  },
  {
   "cell_type": "markdown",
   "metadata": {},
   "source": [
    "######ELSE_INSIDE_LOOP\n"
   ]
  },
  {
   "cell_type": "code",
   "execution_count": 8,
   "metadata": {},
   "outputs": [
    {
     "name": "stdout",
     "output_type": "stream",
     "text": [
      "tamil book found\n"
     ]
    }
   ],
   "source": [
    "books = ['tamil','english','kannada']\n",
    "count = 0\n",
    "while count < len(books):\n",
    "    if books [count] == 'tamil':\n",
    "        print('tamil book found')\n",
    "        break\n",
    "    count +=1   \n",
    "else:\n",
    "    print('book not found')     "
   ]
  },
  {
   "cell_type": "markdown",
   "metadata": {},
   "source": [
    "ERRORS"
   ]
  },
  {
   "cell_type": "code",
   "execution_count": 9,
   "metadata": {},
   "outputs": [
    {
     "name": "stdout",
     "output_type": "stream",
     "text": [
      "book not found\n"
     ]
    }
   ],
   "source": [
    "books = ['tamil','english','kannada']\n",
    "for book in books :\n",
    "    if book == 'maths':    \n",
    "        print('tamil book found')\n",
    "        \n",
    "    count +=1   \n",
    "else:\n",
    "    print('book not found')     "
   ]
  },
  {
   "cell_type": "code",
   "execution_count": 2,
   "metadata": {},
   "outputs": [
    {
     "name": "stdout",
     "output_type": "stream",
     "text": [
      "error ocuured\n",
      "operation done!\n"
     ]
    }
   ],
   "source": [
    "try:\n",
    "   if mark <30 :\n",
    "       print('fail')\n",
    "except:\n",
    "    print('error ocuured')\n",
    "finally:\n",
    "    print('operation done!')           "
   ]
  },
  {
   "cell_type": "markdown",
   "metadata": {},
   "source": [
    "NAME ERROR"
   ]
  },
  {
   "cell_type": "code",
   "execution_count": 4,
   "metadata": {},
   "outputs": [
    {
     "name": "stdout",
     "output_type": "stream",
     "text": [
      "name mot defined\n"
     ]
    }
   ],
   "source": [
    "try:\n",
    "   if mark <30 :\n",
    "       print('fail')\n",
    "except NameError:\n",
    "    print('name mot defined')\n",
    "except:\n",
    "    print('other error')           "
   ]
  },
  {
   "cell_type": "markdown",
   "metadata": {},
   "source": [
    "TYPE ERROR"
   ]
  },
  {
   "cell_type": "code",
   "execution_count": 5,
   "metadata": {},
   "outputs": [
    {
     "name": "stdout",
     "output_type": "stream",
     "text": [
      "type not valid\n"
     ]
    }
   ],
   "source": [
    "mark = input ('enter your mark : ')\n",
    "try:\n",
    "   if mark <30 :\n",
    "       print('fail')\n",
    "except NameError:\n",
    "    print('name mot defined')\n",
    "except TypeError:\n",
    "    print('type not valid')    \n",
    "except:\n",
    "    print('other error')           "
   ]
  },
  {
   "cell_type": "markdown",
   "metadata": {},
   "source": [
    "Exception METHOD"
   ]
  },
  {
   "cell_type": "code",
   "execution_count": 8,
   "metadata": {},
   "outputs": [
    {
     "name": "stdout",
     "output_type": "stream",
     "text": [
      "other error:\n",
      "'<' not supported between instances of 'str' and 'int'\n"
     ]
    }
   ],
   "source": [
    "mark = input ('enter your mark : ')\n",
    "try:\n",
    "   if mark <30 :\n",
    "       print('fail')\n",
    "except NameError:\n",
    "    print('name mot defined')\n",
    "except Exception as ex :\n",
    "    print ( f'other error:\\n{ex}')       "
   ]
  },
  {
   "cell_type": "markdown",
   "metadata": {},
   "source": [
    "CREATE FILE"
   ]
  },
  {
   "cell_type": "code",
   "execution_count": 11,
   "metadata": {},
   "outputs": [],
   "source": [
    "file = open('lalanthika_s.txt','x')"
   ]
  },
  {
   "cell_type": "code",
   "execution_count": 12,
   "metadata": {},
   "outputs": [],
   "source": [
    "file = open('lalanthika_s.txt','w')\n",
    "file.write(''' \n",
    "hi\n",
    "i am lala\n",
    "i am 17 years old\n",
    "short balck haired girl\n",
    "''')  \n",
    "file.close()"
   ]
  },
  {
   "cell_type": "markdown",
   "metadata": {},
   "source": [
    "csv file creationm"
   ]
  },
  {
   "cell_type": "code",
   "execution_count": 14,
   "metadata": {},
   "outputs": [],
   "source": [
    "file=open('employee.csv','x')"
   ]
  },
  {
   "cell_type": "code",
   "execution_count": 16,
   "metadata": {},
   "outputs": [],
   "source": [
    "file=open('employee.csv','w')\n",
    "file.write('''\n",
    "id,name,course\n",
    "1,anu,java\n",
    "2,ragul,python\n",
    "3,lakhi,c++\n",
    "''')\n",
    "file.close()           "
   ]
  },
  {
   "cell_type": "markdown",
   "metadata": {},
   "source": [
    "APPEND FILE"
   ]
  },
  {
   "cell_type": "code",
   "execution_count": 18,
   "metadata": {},
   "outputs": [],
   "source": [
    "file = open('lalanthika_s.txt','a')\n",
    "file.write(''' \n",
    "specty girl\n",
    "introvert+extrovert\n",
    "smiler                      \n",
    "''')  \n",
    "file.close()"
   ]
  },
  {
   "cell_type": "code",
   "execution_count": 20,
   "metadata": {},
   "outputs": [],
   "source": [
    "file=open('employee.csv','a')\n",
    "file.write('''\n",
    " id,name,course\n",
    "1,anu,java\n",
    "2,ragul,python\n",
    "3,lakhi,c++                     \n",
    "''')\n",
    "file.close()           "
   ]
  },
  {
   "cell_type": "markdown",
   "metadata": {},
   "source": [
    "READ FROM FILE"
   ]
  },
  {
   "cell_type": "code",
   "execution_count": 21,
   "metadata": {},
   "outputs": [
    {
     "name": "stdout",
     "output_type": "stream",
     "text": [
      " \n",
      "hi\n",
      "i am lala\n",
      "i am 17 years old\n",
      "short balck haired girl\n",
      " \n",
      "\n",
      " specty girl\n",
      "introvert+extrovert\n",
      "smiler                      \n",
      " \n",
      "specty girl\n",
      "introvert+extrovert\n",
      "smiler                      \n",
      "\n"
     ]
    }
   ],
   "source": [
    "file = open('lalanthika_s.txt','r')\n",
    "contents = file .read()\n",
    "print(contents)\n",
    "file.close()"
   ]
  },
  {
   "cell_type": "code",
   "execution_count": 24,
   "metadata": {},
   "outputs": [
    {
     "data": {
      "text/plain": [
       "[' \\n',\n",
       " 'hi\\n',\n",
       " 'i am lala\\n',\n",
       " 'i am 17 years old\\n',\n",
       " 'short balck haired girl\\n',\n",
       " ' \\n',\n",
       " '\\n',\n",
       " ' specty girl\\n',\n",
       " 'introvert+extrovert\\n',\n",
       " 'smiler                      \\n',\n",
       " ' \\n',\n",
       " 'specty girl\\n',\n",
       " 'introvert+extrovert\\n',\n",
       " 'smiler                      \\n']"
      ]
     },
     "execution_count": 24,
     "metadata": {},
     "output_type": "execute_result"
    }
   ],
   "source": [
    "file = open('lalanthika_s.txt','r')\n",
    "contents = file .readlines()\n",
    "file.close()\n",
    "contents"
   ]
  },
  {
   "cell_type": "markdown",
   "metadata": {},
   "source": [
    "USING CONTEXT MANAGERm"
   ]
  },
  {
   "cell_type": "code",
   "execution_count": 26,
   "metadata": {},
   "outputs": [],
   "source": [
    "file_name = 'lalanthika.txt'"
   ]
  },
  {
   "cell_type": "code",
   "execution_count": 36,
   "metadata": {},
   "outputs": [],
   "source": [
    "with open (file_name,'w') as file:\n",
    "    file.write('i am imperfectly perfect in my perfectly imperfect world')"
   ]
  },
  {
   "cell_type": "markdown",
   "metadata": {},
   "source": [
    "FILE EXIST AND DELETE"
   ]
  },
  {
   "cell_type": "code",
   "execution_count": 28,
   "metadata": {},
   "outputs": [],
   "source": [
    "import os"
   ]
  },
  {
   "cell_type": "code",
   "execution_count": 29,
   "metadata": {},
   "outputs": [
    {
     "name": "stdout",
     "output_type": "stream",
     "text": [
      "file exist\n"
     ]
    }
   ],
   "source": [
    "if os.path.exists(\"lalanthika.txt\"):\n",
    "    print('file exist')\n",
    "else:\n",
    "    print(\"file does not exist\")"
   ]
  },
  {
   "cell_type": "code",
   "execution_count": 31,
   "metadata": {},
   "outputs": [
    {
     "name": "stdout",
     "output_type": "stream",
     "text": [
      "deleted\n"
     ]
    }
   ],
   "source": [
    "if os.path.exists(\"lalanthika.txt\"):\n",
    "    os.remove ('lalanthika.txt')\n",
    "    print('deleted')\n",
    "else:\n",
    "    print(\"file does not exist\")"
   ]
  },
  {
   "cell_type": "code",
   "execution_count": null,
   "metadata": {},
   "outputs": [],
   "source": []
  },
  {
   "cell_type": "markdown",
   "metadata": {},
   "source": [
    "nested while\n"
   ]
  },
  {
   "cell_type": "code",
   "execution_count": 32,
   "metadata": {},
   "outputs": [],
   "source": [
    "shoping_cart1 = ['phone','charger']\n",
    "shoping_cart2 = ['lap','tab']\n",
    "shoping_carts = [shoping_cart1,shoping_cart2]"
   ]
  },
  {
   "cell_type": "code",
   "execution_count": 33,
   "metadata": {},
   "outputs": [
    {
     "name": "stdout",
     "output_type": "stream",
     "text": [
      "phone\n",
      "charger\n",
      "lap\n",
      "tab\n"
     ]
    }
   ],
   "source": [
    "i = 0\n",
    "while i <len(shoping_carts):\n",
    "    j=0\n",
    "    while j<len(shoping_carts[i]):\n",
    "        print(shoping_carts[i][j])\n",
    "        j+=1\n",
    "    i+=1    "
   ]
  },
  {
   "cell_type": "code",
   "execution_count": null,
   "metadata": {},
   "outputs": [],
   "source": []
  }
 ],
 "metadata": {
  "kernelspec": {
   "display_name": "Python 3",
   "language": "python",
   "name": "python3"
  },
  "language_info": {
   "codemirror_mode": {
    "name": "ipython",
    "version": 3
   },
   "file_extension": ".py",
   "mimetype": "text/x-python",
   "name": "python",
   "nbconvert_exporter": "python",
   "pygments_lexer": "ipython3",
   "version": "3.10.12"
  }
 },
 "nbformat": 4,
 "nbformat_minor": 2
}
